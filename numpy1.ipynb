{
  "nbformat": 4,
  "nbformat_minor": 0,
  "metadata": {
    "colab": {
      "provenance": [],
      "toc_visible": true,
      "authorship_tag": "ABX9TyPV8jXPIUfb/VuLxId6JBqK",
      "include_colab_link": true
    },
    "kernelspec": {
      "name": "python3",
      "display_name": "Python 3"
    },
    "language_info": {
      "name": "python"
    }
  },
  "cells": [
    {
      "cell_type": "markdown",
      "metadata": {
        "id": "view-in-github",
        "colab_type": "text"
      },
      "source": [
        "<a href=\"https://colab.research.google.com/github/keshavchandel13/numpy/blob/main/numpy1.ipynb\" target=\"_parent\"><img src=\"https://colab.research.google.com/assets/colab-badge.svg\" alt=\"Open In Colab\"/></a>"
      ]
    },
    {
      "cell_type": "code",
      "execution_count": null,
      "metadata": {
        "id": "w1_I6u9Bq4oo"
      },
      "outputs": [],
      "source": []
    },
    {
      "cell_type": "code",
      "source": [
        "import numpy as np\n",
        "x = np.array([1,2,3,4])\n",
        "print(x)\n",
        "print(type(x))"
      ],
      "metadata": {
        "id": "rJpcMmWurGPv",
        "colab": {
          "base_uri": "https://localhost:8080/"
        },
        "outputId": "6aee2d13-12d3-471a-b4fc-0cf879cc9436"
      },
      "execution_count": null,
      "outputs": [
        {
          "output_type": "stream",
          "name": "stdout",
          "text": [
            "[1 2 3 4]\n",
            "<class 'numpy.ndarray'>\n"
          ]
        }
      ]
    },
    {
      "cell_type": "markdown",
      "source": [
        "# New Section"
      ],
      "metadata": {
        "id": "6RBjPhJPw43h"
      }
    },
    {
      "cell_type": "code",
      "source": [
        "y = [1,2,3,4]\n",
        "print(y)\n",
        "print(type(y))"
      ],
      "metadata": {
        "colab": {
          "base_uri": "https://localhost:8080/"
        },
        "id": "zfSEvqV6u-48",
        "outputId": "8928f49a-fe4b-428d-c561-08d33d4c5d27"
      },
      "execution_count": null,
      "outputs": [
        {
          "output_type": "stream",
          "name": "stdout",
          "text": [
            "[1, 2, 3, 4]\n",
            "<class 'list'>\n"
          ]
        }
      ]
    },
    {
      "cell_type": "code",
      "source": [
        "# testing which is fast array or list\n",
        "\n",
        "# List\n",
        "print(\"Time for List\")\n",
        "%timeit [j**4 for j in range(1,9)]\n",
        "\n",
        "#array\n",
        "import numpy as np\n",
        "print(\"Time for array\")\n",
        "%timeit np.arange(1,9)**4 #arrange function creates the array"
      ],
      "metadata": {
        "colab": {
          "base_uri": "https://localhost:8080/"
        },
        "id": "ME1zLbYg0wgZ",
        "outputId": "f79ea358-1d6e-4f34-f324-b4e7d5d3fcd4"
      },
      "execution_count": 6,
      "outputs": [
        {
          "output_type": "stream",
          "name": "stdout",
          "text": [
            "Time for List\n",
            "3.95 µs ± 361 ns per loop (mean ± std. dev. of 7 runs, 100000 loops each)\n",
            "Time for array\n",
            "2.48 µs ± 63.2 ns per loop (mean ± std. dev. of 7 runs, 100000 loops each)\n"
          ]
        }
      ]
    },
    {
      "cell_type": "markdown",
      "source": [
        "# Array"
      ],
      "metadata": {
        "id": "pmynUaIF20L8"
      }
    },
    {
      "cell_type": "code",
      "source": [
        "# creating a array\n",
        "import numpy as np\n",
        "a = np.array([1,2,3,4])\n",
        "print(a)"
      ],
      "metadata": {
        "colab": {
          "base_uri": "https://localhost:8080/"
        },
        "id": "OJsoQ2Py2_q6",
        "outputId": "eec1e3dd-1b01-488a-8b17-4b20efb11d79"
      },
      "execution_count": 7,
      "outputs": [
        {
          "output_type": "stream",
          "name": "stdout",
          "text": [
            "[1 2 3 4]\n"
          ]
        }
      ]
    },
    {
      "cell_type": "markdown",
      "source": [
        "# Create user defined array\n"
      ],
      "metadata": {
        "id": "oIrW221U3gGt"
      }
    },
    {
      "cell_type": "code",
      "source": [
        "#creating user defined array\n",
        "import numpy as np\n",
        "lst = [] # taking empty list\n",
        "b = int(input(\"enter the number of digits you want to enter in array: \"))\n",
        "for i in range(0,b):\n",
        "  inp = int(input(\"Enter value \"))\n",
        "  lst.append(inp)\n",
        "arr = np.array(lst)\n",
        "print(arr)\n",
        "print(type(arr))"
      ],
      "metadata": {
        "colab": {
          "base_uri": "https://localhost:8080/"
        },
        "id": "12zy0PPr3oy1",
        "outputId": "ceeed75f-5bfe-45d4-b280-a8c0871f2672"
      },
      "execution_count": 12,
      "outputs": [
        {
          "output_type": "stream",
          "name": "stdout",
          "text": [
            "enter the number of digits you want to enter in array: 3\n",
            "Enter value 10\n",
            "Enter value 20\n",
            "Enter value 30\n",
            "[10 20 30]\n",
            "<class 'numpy.ndarray'>\n"
          ]
        }
      ]
    }
  ]
}