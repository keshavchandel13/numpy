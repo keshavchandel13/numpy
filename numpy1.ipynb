{
  "nbformat": 4,
  "nbformat_minor": 0,
  "metadata": {
    "colab": {
      "provenance": [],
      "authorship_tag": "ABX9TyOuLuvYJJwOBby5tA+X+7NA",
      "include_colab_link": true
    },
    "kernelspec": {
      "name": "python3",
      "display_name": "Python 3"
    },
    "language_info": {
      "name": "python"
    }
  },
  "cells": [
    {
      "cell_type": "markdown",
      "metadata": {
        "id": "view-in-github",
        "colab_type": "text"
      },
      "source": [
        "<a href=\"https://colab.research.google.com/github/keshavchandel13/numpy/blob/main/numpy1.ipynb\" target=\"_parent\"><img src=\"https://colab.research.google.com/assets/colab-badge.svg\" alt=\"Open In Colab\"/></a>"
      ]
    },
    {
      "cell_type": "markdown",
      "source": [
        "# **NUMPY**"
      ],
      "metadata": {
        "id": "joEGCWU_Sepm"
      }
    },
    {
      "cell_type": "code",
      "source": [
        "import numpy as np\n",
        "x = np.array([1,2,3,4])\n",
        "print(x)\n",
        "print(type(x))"
      ],
      "metadata": {
        "id": "rJpcMmWurGPv",
        "colab": {
          "base_uri": "https://localhost:8080/"
        },
        "outputId": "6aee2d13-12d3-471a-b4fc-0cf879cc9436"
      },
      "execution_count": null,
      "outputs": [
        {
          "output_type": "stream",
          "name": "stdout",
          "text": [
            "[1 2 3 4]\n",
            "<class 'numpy.ndarray'>\n"
          ]
        }
      ]
    },
    {
      "cell_type": "markdown",
      "source": [
        "# Array"
      ],
      "metadata": {
        "id": "pmynUaIF20L8"
      }
    },
    {
      "cell_type": "code",
      "source": [
        "# creating a array\n",
        "import numpy as np\n",
        "a = np.array([1,2,3,4])\n",
        "print(a)"
      ],
      "metadata": {
        "colab": {
          "base_uri": "https://localhost:8080/"
        },
        "id": "OJsoQ2Py2_q6",
        "outputId": "eec1e3dd-1b01-488a-8b17-4b20efb11d79"
      },
      "execution_count": null,
      "outputs": [
        {
          "output_type": "stream",
          "name": "stdout",
          "text": [
            "[1 2 3 4]\n"
          ]
        }
      ]
    },
    {
      "cell_type": "markdown",
      "source": [
        "# Create user defined array\n"
      ],
      "metadata": {
        "id": "oIrW221U3gGt"
      }
    },
    {
      "cell_type": "code",
      "source": [
        "#creating user defined array\n",
        "import numpy as np\n",
        "lst = [] # taking empty list\n",
        "b = int(input(\"enter the number of digits you want to enter in array: \"))\n",
        "for i in range(0,b):\n",
        "  inp = int(input(\"Enter value \"))\n",
        "  lst.append(inp)\n",
        "arr = np.array(lst)\n",
        "print(arr)\n",
        "print(type(arr))"
      ],
      "metadata": {
        "colab": {
          "base_uri": "https://localhost:8080/"
        },
        "id": "12zy0PPr3oy1",
        "outputId": "ceeed75f-5bfe-45d4-b280-a8c0871f2672"
      },
      "execution_count": null,
      "outputs": [
        {
          "output_type": "stream",
          "name": "stdout",
          "text": [
            "enter the number of digits you want to enter in array: 3\n",
            "Enter value 10\n",
            "Enter value 20\n",
            "Enter value 30\n",
            "[10 20 30]\n",
            "<class 'numpy.ndarray'>\n"
          ]
        }
      ]
    },
    {
      "cell_type": "markdown",
      "source": [
        "### Types of arrays\n",
        "\n",
        "\n",
        "1.   1-D arrays [1 2 3 4]\n",
        "2.   2-D arrays [[1 2 3 4]]\n",
        "3.   3-D arrays [[[1 2 3 4 ]]]\n",
        "4.   Higher Dimension Arrays\n",
        "--> ndim is the function used to determine the dimension of array\n",
        "\n",
        "  \n",
        "\n"
      ],
      "metadata": {
        "id": "JwsUEZVm6s__"
      }
    },
    {
      "cell_type": "code",
      "source": [
        "# two dimension array\n",
        "import numpy as np\n",
        "arr2 = np.array([[1,2,3,4],[1,2,3,4]])\n",
        "print(\"two dimension array is: \\n\",arr2)\n",
        "print(arr2.ndim)\n",
        "# three dimension array\n",
        "arr3 = np.array([[[1,2,3,4],[5,6,7,8],[7,8,9,10]]])\n",
        "print(\"three dimension array is : \\n\",arr3)\n",
        "print(arr3.ndim)\n",
        "\n",
        "# 10-D array\n",
        "arr10 = np.array([1,2,3,4],ndmin=10)\n",
        "print(\"10-D array: \\n\",arr10)\n",
        "print(arr10.ndim)"
      ],
      "metadata": {
        "colab": {
          "base_uri": "https://localhost:8080/"
        },
        "id": "QeG6ZSaO7oLW",
        "outputId": "10d1a21c-9429-40b5-8a4b-50ede73e93d1"
      },
      "execution_count": null,
      "outputs": [
        {
          "output_type": "stream",
          "name": "stdout",
          "text": [
            "two dimension array is: \n",
            " [[1 2 3 4]\n",
            " [1 2 3 4]]\n",
            "2\n",
            "three dimension array is : \n",
            " [[[ 1  2  3  4]\n",
            "  [ 5  6  7  8]\n",
            "  [ 7  8  9 10]]]\n",
            "3\n",
            "10-D array: \n",
            " [[[[[[[[[[1 2 3 4]]]]]]]]]]\n",
            "10\n"
          ]
        }
      ]
    },
    {
      "cell_type": "code",
      "source": [
        "# zero array\n",
        "import numpy as np\n",
        "print(\"Zero array: \")\n",
        "arr_zero = np.zeros(4)\n",
        "print(arr_zero) # 1-D\n",
        "arr_zero1 = np.zeros((2,3))\n",
        "print()\n",
        "print(arr_zero1) #2-D\n",
        "print()\n",
        "\n",
        "# One's array\n",
        "print(\"one's array: \")\n",
        "arr_one = np.ones(4)\n",
        "print(arr_one) # 1-D\n",
        "print()\n",
        "arr_one1 = np.ones((2,8))\n",
        "print(arr_one1) # 2-D\n",
        "print()\n",
        "\n",
        "# Empty Array\n",
        "print(\"Empty array: \")\n",
        "ar_emp = np.empty(4)\n",
        "print(ar_emp)\n",
        "print()\n",
        "\n",
        "# Range Array\n",
        "print(\"Range array: \")\n",
        "ar_rn = np.arange(9)\n",
        "print(ar_rn)\n",
        "print()\n",
        "\n",
        "# Diagonal Array\n",
        "print(\"Diagonal array: \")\n",
        "ar_dg = np.eye(3)\n",
        "print(ar_dg)\n",
        "print()\n",
        "\n",
        "# Special Interval array (linespace)\n",
        "print(\"Special Interval array: \")\n",
        "ar_sp = np.linspace(0,20,num=5)\n",
        "print(ar_sp)\n",
        "\n",
        "\n",
        "\n"
      ],
      "metadata": {
        "colab": {
          "base_uri": "https://localhost:8080/"
        },
        "id": "MqmTnmgE-fNE",
        "outputId": "ca5459d1-b0ee-4534-9f30-167ba3bb58db"
      },
      "execution_count": null,
      "outputs": [
        {
          "output_type": "stream",
          "name": "stdout",
          "text": [
            "Zero array: \n",
            "[0. 0. 0. 0.]\n",
            "\n",
            "[[0. 0. 0.]\n",
            " [0. 0. 0.]]\n",
            "\n",
            "one's array: \n",
            "[1. 1. 1. 1.]\n",
            "\n",
            "[[1. 1. 1. 1. 1. 1. 1. 1.]\n",
            " [1. 1. 1. 1. 1. 1. 1. 1.]]\n",
            "\n",
            "Empty array: \n",
            "[1. 1. 1. 1.]\n",
            "\n",
            "Range array: \n",
            "[0 1 2 3 4 5 6 7 8]\n",
            "\n",
            "Diagonal array: \n",
            "[[1. 0. 0.]\n",
            " [0. 1. 0.]\n",
            " [0. 0. 1.]]\n",
            "\n",
            "Special Interval array: \n",
            "[ 0.  5. 10. 15. 20.]\n"
          ]
        }
      ]
    },
    {
      "cell_type": "markdown",
      "source": [
        "# Random"
      ],
      "metadata": {
        "id": "1alcVzXkCN6t"
      }
    },
    {
      "cell_type": "code",
      "source": [
        "import numpy as np\n",
        "# Rand(): Generate Number between 0 & 1\n",
        "var = np.random.rand(4)\n",
        "print(\"Array using rand(): \\n\",var)\n",
        "print()\n",
        "var1 = np.random.rand(2,5)\n",
        "print(\"Array using rand() 2-D:\\n\",var1)\n",
        "print()\n",
        "\n",
        "# randn(): Generate Number close to zero, +ve or -ve as well\n",
        "var2 = np.random.randn(5)\n",
        "print(\"Array using randn(): 1-D:\\n\",var2)\n",
        "print()\n",
        "var3 = np.random.randn(2,3)\n",
        "print(\"array using randn 2-D: \\n\",var3)\n",
        "print()\n",
        "\n",
        "# ranf(): Random sampling in numpy, Returns array of specified shape and fills it with random float between [0.0, 1.0)\n",
        "var4 = np.random.ranf(4)\n",
        "print(\"Array using ranf() 1-D:\\n\",var4)\n",
        "print()\n",
        "\n",
        "# randint(): generate the random number between a range\n",
        "# var5 = np.random.randint(min,max,size)\n",
        "var5 = np.random.randint(5,20,5)\n",
        "print(\"Array using randint(): 1-D:\\n\",var5)\n",
        "print()\n",
        "\n"
      ],
      "metadata": {
        "id": "hKUilMuuCWD1",
        "colab": {
          "base_uri": "https://localhost:8080/"
        },
        "outputId": "3d27e9a7-4843-4f04-e86e-e46b57794b5e"
      },
      "execution_count": null,
      "outputs": [
        {
          "output_type": "stream",
          "name": "stdout",
          "text": [
            "Array using rand(): \n",
            " [0.87747728 0.0972548  0.83650654 0.91131523]\n",
            "\n",
            "Array using rand() 2-D:\n",
            " [[0.02000192 0.68750281 0.86745746 0.1725827  0.7112917 ]\n",
            " [0.19896727 0.87206652 0.95439167 0.30033965 0.37692319]]\n",
            "\n",
            "Array using randn(): 1-D:\n",
            " [ 0.8174317   0.11542216  0.01577104 -0.66518159  0.44058919]\n",
            "\n",
            "array using randn 2-D: \n",
            " [[ 0.16484025 -0.08596793 -1.44890043]\n",
            " [ 1.41835974  1.37429785 -1.47793834]]\n",
            "\n",
            "Array using ranf() 1-D:\n",
            " [0.88327713 0.70695148 0.67766419 0.82313051]\n",
            "\n",
            "Array using randint(): 1-D:\n",
            " [11 11  5  8 12]\n",
            "\n"
          ]
        }
      ]
    },
    {
      "cell_type": "markdown",
      "source": [
        "# DATATYPE IN NUMPY ARRAY'S\n"
      ],
      "metadata": {
        "id": "jDtzXHEY35ET"
      }
    },
    {
      "cell_type": "code",
      "source": [
        "import numpy as np\n",
        "# Finding datatype using .dtype\n",
        "var = np.array([1,2,3,4])\n",
        "print(\"Data type: \",var.dtype)\n",
        "print()\n",
        "var = np.array([\"a\",\"b\",\"c\"])\n",
        "print(\"Data Type: \",var.dtype)\n",
        "\n",
        "# Changing the datatype\n",
        "x = np.array([1,2,3,4],dtype=np.float16)\n",
        "print(x.dtype)\n",
        "x = np.array([1,2,3,4],dtype= \"i\")\n",
        "print(x.dtype)\n",
        "\n",
        "# changing datatype using astype\n",
        "y = np.array([1,2,3])\n",
        "new = y.astype(float)\n",
        "print(new.dtype)\n"
      ],
      "metadata": {
        "colab": {
          "base_uri": "https://localhost:8080/"
        },
        "id": "TupvVDyl3-qe",
        "outputId": "7a4bb4a1-6733-4a28-b1a8-1c6eec613be2"
      },
      "execution_count": null,
      "outputs": [
        {
          "output_type": "stream",
          "name": "stdout",
          "text": [
            "Data type:  int64\n",
            "\n",
            "Data Type:  <U1\n",
            "float16\n",
            "int32\n",
            "float64\n"
          ]
        }
      ]
    },
    {
      "cell_type": "markdown",
      "source": [
        "# Arithmetic operation on array"
      ],
      "metadata": {
        "id": "ZnqQJ4TB7w5o"
      }
    },
    {
      "cell_type": "code",
      "source": [
        "import numpy as np\n",
        "# addition\n",
        "var = np.array([1,2,3,4])\n",
        "varadd = var + 3\n",
        "print(\"The addtion of the array is: \",varadd)\n",
        "arr1 = np.array([1,2,3,4])\n",
        "arr2 = np.array([2,9,10,9])\n",
        "arrsum = arr1 + arr2\n",
        "print(\"The addition of two array is: \",arrsum)\n",
        "\n",
        "# subraction\n",
        "varsub = var - 3\n",
        "print(\"The subraction of the array is: \",varsub)\n",
        "\n",
        "# division\n",
        "vardiv = var / 3\n",
        "print(\"The division of the array is: \",vardiv)\n",
        "\n",
        "# multiplication\n",
        "varmul = var * 3\n",
        "print(\"The multiplication of the array is: \",varmul)\n",
        "\n"
      ],
      "metadata": {
        "colab": {
          "base_uri": "https://localhost:8080/"
        },
        "id": "Z_gtlTD37wgR",
        "outputId": "67df85d5-70ac-4151-b1ac-a8c49815ecc8"
      },
      "execution_count": null,
      "outputs": [
        {
          "output_type": "stream",
          "name": "stdout",
          "text": [
            "The addtion of the array is:  [4 5 6 7]\n",
            "The addition of two array is:  [ 3 11 13 13]\n",
            "The subraction of the array is:  [-2 -1  0  1]\n",
            "The division of the array is:  [0.33333333 0.66666667 1.         1.33333333]\n",
            "The multiplication of the array is:  [ 3  6  9 12]\n"
          ]
        }
      ]
    },
    {
      "cell_type": "markdown",
      "source": [
        "# Arithamatic Functions"
      ],
      "metadata": {
        "id": "5XATKvOvx80l"
      }
    },
    {
      "cell_type": "code",
      "source": [
        "import numpy as np\n",
        "var = np.array([1,2,3,4,5,6,7,8])\n",
        "# Min of array\n",
        "print(\"Minimum: \",np.min(var))\n",
        "# Max of array\n",
        "print(\"Max: \",np.max(var))\n",
        "# Position of min element in array\n",
        "print(\"Position min: \",np.argmin(var))\n",
        "# Position of max element in array\n",
        "print(\"Position max: \",np.argmax(var))\n",
        "# Square root of array\n",
        "print(\"Square root: \",np.sqrt(var))\n",
        "# Sin of array\n",
        "print(\"Sin: \",np.sin(var))\n",
        "# cumulative sum\n",
        "print(\"Cumulative sum: \",np.cumsum(var))"
      ],
      "metadata": {
        "colab": {
          "base_uri": "https://localhost:8080/"
        },
        "id": "2Y9QsiVIyEcz",
        "outputId": "9d99cbff-be11-4b80-f40f-4dc51c7b818a"
      },
      "execution_count": null,
      "outputs": [
        {
          "output_type": "stream",
          "name": "stdout",
          "text": [
            "Minimum:  1\n",
            "Max:  8\n",
            "Position min:  0\n",
            "Position max:  7\n",
            "Square root:  [1.         1.41421356 1.73205081 2.         2.23606798 2.44948974\n",
            " 2.64575131 2.82842712]\n",
            "Sin:  [ 0.84147098  0.90929743  0.14112001 -0.7568025  -0.95892427 -0.2794155\n",
            "  0.6569866   0.98935825]\n",
            "Cumulative sum:  [ 1  3  6 10 15 21 28 36]\n"
          ]
        }
      ]
    },
    {
      "cell_type": "markdown",
      "source": [
        "# Shape & Re- shape\n",
        "converting 1-D array to 2-D\n",
        "or 2-D array to 3-D array\n",
        "or n-D array to n-D array"
      ],
      "metadata": {
        "id": "9Z5GmLDzlfF2"
      }
    },
    {
      "cell_type": "code",
      "source": [
        "import numpy as np\n",
        "var = np.array([[1,2,3],[2,5,6]])\n",
        "print(var)\n",
        "print(var.shape)\n",
        "print()\n",
        "\n",
        "# multi-D array\n",
        "var1 = np.array([1,2,3,4],ndmin=4)\n",
        "print(var1)\n",
        "print(var1.ndim)\n",
        "print(var1.shape)"
      ],
      "metadata": {
        "colab": {
          "base_uri": "https://localhost:8080/"
        },
        "id": "5GYMZnLolvHO",
        "outputId": "91dba547-011a-429c-901b-39777d342f51"
      },
      "execution_count": null,
      "outputs": [
        {
          "output_type": "stream",
          "name": "stdout",
          "text": [
            "[[1 2 3]\n",
            " [2 5 6]]\n",
            "(2, 3)\n",
            "\n",
            "[[[[1 2 3 4]]]]\n",
            "4\n",
            "(1, 1, 1, 4)\n"
          ]
        }
      ]
    },
    {
      "cell_type": "markdown",
      "source": [
        "Reshape\n"
      ],
      "metadata": {
        "id": "WjT9-WSHl2Xr"
      }
    },
    {
      "cell_type": "code",
      "source": [
        "var = np.array([1,2,3,4,5,6])\n",
        "print(var.shape)\n",
        "# 1-D to 2-D\n",
        "x = var.reshape(2,3)\n",
        "print(x)\n",
        "print(x.ndim)\n",
        "# 2-D to 1-D\n",
        "x1 = x.reshape(-1)\n",
        "print(x1)\n",
        "print(x1.ndim)\n"
      ],
      "metadata": {
        "colab": {
          "base_uri": "https://localhost:8080/"
        },
        "id": "SCwoF-Kjpnhz",
        "outputId": "24bc62d4-2628-47ed-a416-781bd0156d8c"
      },
      "execution_count": null,
      "outputs": [
        {
          "output_type": "stream",
          "name": "stdout",
          "text": [
            "(6,)\n",
            "[[1 2 3]\n",
            " [4 5 6]]\n",
            "2\n",
            "[1 2 3 4 5 6]\n",
            "1\n"
          ]
        }
      ]
    },
    {
      "cell_type": "markdown",
      "source": [
        "# BroadCasting"
      ],
      "metadata": {
        "id": "lHbXPVkqrLFV"
      }
    },
    {
      "cell_type": "code",
      "source": [
        "import numpy as np\n",
        "var1 = np.array([1,2,3])\n",
        "var2 = np.array([1,2])\n",
        "# print(var1 + var2) # throws error\n",
        "\n",
        "var3 = np.array([1,2,3])\n",
        "var4 = np.array([[1],[2],[3]])\n",
        "print(var3)\n",
        "print(var4)\n",
        "print( var3 + var4)"
      ],
      "metadata": {
        "colab": {
          "base_uri": "https://localhost:8080/"
        },
        "id": "zjK7DoPorQEs",
        "outputId": "7ac5013b-c62c-4263-93fb-ede4152678c9"
      },
      "execution_count": null,
      "outputs": [
        {
          "output_type": "stream",
          "name": "stdout",
          "text": [
            "[1 2 3]\n",
            "[[1]\n",
            " [2]\n",
            " [3]]\n",
            "[[2 3 4]\n",
            " [3 4 5]\n",
            " [4 5 6]]\n"
          ]
        }
      ]
    },
    {
      "cell_type": "markdown",
      "source": [
        "# Indexing & Slicing"
      ],
      "metadata": {
        "id": "bFZwjuCD1Cvb"
      }
    },
    {
      "cell_type": "code",
      "source": [
        "# Indexing: The indexing is both +ve & -ve similar to list\n",
        "import numpy as np\n",
        "var = np.array([9,8,6])\n",
        "print(var[2])\n",
        "print(var[-1])\n",
        "print()\n",
        "# 2-D array\n",
        "var2 = np.array([[9,8,7],[4,5,6]])\n",
        "print(var2[0,2])\n",
        "print()\n",
        "# 3-D array\n",
        "var3 = np.array([[[1,2,3],[4,5,6],[7,8,9],[2,4,5]]])\n",
        "print(var3)\n",
        "print(var3[0,1,2])\n"
      ],
      "metadata": {
        "colab": {
          "base_uri": "https://localhost:8080/"
        },
        "id": "-q6PwxZl3YIa",
        "outputId": "d93b15d6-c997-4251-d44f-81008505acda"
      },
      "execution_count": null,
      "outputs": [
        {
          "output_type": "stream",
          "name": "stdout",
          "text": [
            "6\n",
            "6\n",
            "\n",
            "7\n",
            "\n",
            "[[[1 2 3]\n",
            "  [4 5 6]\n",
            "  [7 8 9]\n",
            "  [2 4 5]]]\n",
            "6\n"
          ]
        }
      ]
    },
    {
      "cell_type": "code",
      "source": [
        "# slicing\n",
        "var = np.array([33,22,77,33,12,56,44])\n",
        "print(var[1:4])\n",
        "print(var[1:])\n",
        "\n",
        "# 2-D\n",
        "var2 = np.array([[1,2,3,4,5],[6,7,8,9,10]])\n",
        "print(var2[0,1:4])"
      ],
      "metadata": {
        "colab": {
          "base_uri": "https://localhost:8080/"
        },
        "id": "Ltp1zf-g7Jl7",
        "outputId": "cd8decfe-5d5b-48c7-c8fb-4130503ac4d5"
      },
      "execution_count": null,
      "outputs": [
        {
          "output_type": "stream",
          "name": "stdout",
          "text": [
            "[22 77 33]\n",
            "[22 77 33 12 56 44]\n",
            "[2 3 4]\n"
          ]
        }
      ]
    },
    {
      "cell_type": "markdown",
      "source": [
        "# Iteration"
      ],
      "metadata": {
        "id": "kZ6znlSH8aIp"
      }
    },
    {
      "cell_type": "code",
      "source": [
        "# Iteration\n",
        "import numpy as np\n",
        "var = np.array([9,8,7,6,5,4,3])\n",
        "for i in var:\n",
        "  print(i,end=\"  \")\n",
        "print()\n",
        "print()\n",
        "# 2-D\n",
        "var2 = np.array([[1,2,3,4],[5,6,7,8]])\n",
        "print()\n",
        "for j in var2:\n",
        "  # print(j)\n",
        "  for k in j:\n",
        "    print(k,end=\"  \")\n",
        "\n",
        "# iterate without using multiple  loop\n",
        "print()\n",
        "for x in np.nditer(var2):\n",
        "  print(x,end=\"  \")\n"
      ],
      "metadata": {
        "colab": {
          "base_uri": "https://localhost:8080/"
        },
        "id": "iqxls2W98dyY",
        "outputId": "fe9100e8-c3ac-4340-e578-54fd207e70b5"
      },
      "execution_count": null,
      "outputs": [
        {
          "output_type": "stream",
          "name": "stdout",
          "text": [
            "9  8  7  6  5  4  3  \n",
            "\n",
            "\n",
            "1  2  3  4  5  6  7  8  \n",
            "1  2  3  4  5  6  7  8  "
          ]
        }
      ]
    },
    {
      "cell_type": "code",
      "source": [
        "# indexing\n",
        "for x,d in np.ndenumerate(var2):\n",
        "  print(x,d)"
      ],
      "metadata": {
        "colab": {
          "base_uri": "https://localhost:8080/"
        },
        "id": "vModQy8K9srL",
        "outputId": "c2e15854-c3f5-4b4c-835c-22c890a1767c"
      },
      "execution_count": null,
      "outputs": [
        {
          "output_type": "stream",
          "name": "stdout",
          "text": [
            "(0, 0) 1\n",
            "(0, 1) 2\n",
            "(0, 2) 3\n",
            "(0, 3) 4\n",
            "(1, 0) 5\n",
            "(1, 1) 6\n",
            "(1, 2) 7\n",
            "(1, 3) 8\n"
          ]
        }
      ]
    },
    {
      "cell_type": "markdown",
      "source": [
        "# Copy vs View"
      ],
      "metadata": {
        "id": "OKhr2DsUDFc1"
      }
    },
    {
      "cell_type": "code",
      "source": [
        "import numpy as np\n",
        "# copy\n",
        "var = np.array([1,2,3,4])\n",
        "co = var.copy()\n",
        "\n",
        "print(\"var: \",var)\n",
        "print(\"copy: \",co)\n",
        "\n",
        "# view: Changes madeb in original array will make in view also\n",
        "var1 = np.array([1,2,3,4])\n",
        "vi = var1.view()\n",
        "\n",
        "print(\"var1: \",var1)\n",
        "print(\"view: \",vi)"
      ],
      "metadata": {
        "colab": {
          "base_uri": "https://localhost:8080/"
        },
        "id": "uMNKOiWhDKgO",
        "outputId": "d2ca5314-447c-440c-c002-48e5213c9cd6"
      },
      "execution_count": null,
      "outputs": [
        {
          "output_type": "stream",
          "name": "stdout",
          "text": [
            "var:  [1 2 3 4]\n",
            "copy:  [1 2 3 4]\n",
            "var1:  [1 2 3 4]\n",
            "view:  [1 2 3 4]\n"
          ]
        }
      ]
    },
    {
      "cell_type": "markdown",
      "source": [
        "# Join AND Split ARRAY"
      ],
      "metadata": {
        "id": "kwNCrgjcd4vo"
      }
    },
    {
      "cell_type": "code",
      "source": [
        "import numpy as np\n",
        "var = np.array([1,2,3,4])\n",
        "var2 = np.array([5,6,7,8])\n",
        "arr = np.concatenate((var,var2))\n",
        "print(arr)\n",
        "# 2-D array\n",
        "var3 = np.array([[1,2],[3,4]])\n",
        "var4 = np.array([[5,6],[7,8]])\n",
        "arr2 = np.concatenate((var3,var4),axis=1)\n",
        "print(arr2)"
      ],
      "metadata": {
        "colab": {
          "base_uri": "https://localhost:8080/"
        },
        "id": "yYJtktHxd86I",
        "outputId": "00872166-0d15-490e-f826-71ef3cb4cc41"
      },
      "execution_count": 7,
      "outputs": [
        {
          "output_type": "stream",
          "name": "stdout",
          "text": [
            "[1 2 3 4 5 6 7 8]\n",
            "[[1 2 5 6]\n",
            " [3 4 7 8]]\n"
          ]
        }
      ]
    }
  ]
}