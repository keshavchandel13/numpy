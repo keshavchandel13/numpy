{
  "nbformat": 4,
  "nbformat_minor": 0,
  "metadata": {
    "colab": {
      "provenance": [],
      "authorship_tag": "ABX9TyN3KEktR1Z2QfX4Ey+iTOPN",
      "include_colab_link": true
    },
    "kernelspec": {
      "name": "python3",
      "display_name": "Python 3"
    },
    "language_info": {
      "name": "python"
    }
  },
  "cells": [
    {
      "cell_type": "markdown",
      "metadata": {
        "id": "view-in-github",
        "colab_type": "text"
      },
      "source": [
        "<a href=\"https://colab.research.google.com/github/keshavchandel13/numpy/blob/main/numpy1.ipynb\" target=\"_parent\"><img src=\"https://colab.research.google.com/assets/colab-badge.svg\" alt=\"Open In Colab\"/></a>"
      ]
    },
    {
      "cell_type": "code",
      "execution_count": null,
      "metadata": {
        "id": "w1_I6u9Bq4oo"
      },
      "outputs": [],
      "source": []
    },
    {
      "cell_type": "code",
      "source": [
        "import numpy as np\n",
        "x = np.array([1,2,3,4])\n",
        "print(x)\n",
        "print(type(x))"
      ],
      "metadata": {
        "id": "rJpcMmWurGPv",
        "colab": {
          "base_uri": "https://localhost:8080/"
        },
        "outputId": "6aee2d13-12d3-471a-b4fc-0cf879cc9436"
      },
      "execution_count": null,
      "outputs": [
        {
          "output_type": "stream",
          "name": "stdout",
          "text": [
            "[1 2 3 4]\n",
            "<class 'numpy.ndarray'>\n"
          ]
        }
      ]
    },
    {
      "cell_type": "markdown",
      "source": [
        "# Array"
      ],
      "metadata": {
        "id": "pmynUaIF20L8"
      }
    },
    {
      "cell_type": "code",
      "source": [
        "# creating a array\n",
        "import numpy as np\n",
        "a = np.array([1,2,3,4])\n",
        "print(a)"
      ],
      "metadata": {
        "colab": {
          "base_uri": "https://localhost:8080/"
        },
        "id": "OJsoQ2Py2_q6",
        "outputId": "eec1e3dd-1b01-488a-8b17-4b20efb11d79"
      },
      "execution_count": null,
      "outputs": [
        {
          "output_type": "stream",
          "name": "stdout",
          "text": [
            "[1 2 3 4]\n"
          ]
        }
      ]
    },
    {
      "cell_type": "markdown",
      "source": [
        "# Create user defined array\n"
      ],
      "metadata": {
        "id": "oIrW221U3gGt"
      }
    },
    {
      "cell_type": "code",
      "source": [
        "#creating user defined array\n",
        "import numpy as np\n",
        "lst = [] # taking empty list\n",
        "b = int(input(\"enter the number of digits you want to enter in array: \"))\n",
        "for i in range(0,b):\n",
        "  inp = int(input(\"Enter value \"))\n",
        "  lst.append(inp)\n",
        "arr = np.array(lst)\n",
        "print(arr)\n",
        "print(type(arr))"
      ],
      "metadata": {
        "colab": {
          "base_uri": "https://localhost:8080/"
        },
        "id": "12zy0PPr3oy1",
        "outputId": "ceeed75f-5bfe-45d4-b280-a8c0871f2672"
      },
      "execution_count": null,
      "outputs": [
        {
          "output_type": "stream",
          "name": "stdout",
          "text": [
            "enter the number of digits you want to enter in array: 3\n",
            "Enter value 10\n",
            "Enter value 20\n",
            "Enter value 30\n",
            "[10 20 30]\n",
            "<class 'numpy.ndarray'>\n"
          ]
        }
      ]
    },
    {
      "cell_type": "markdown",
      "source": [
        "### Types of arrays\n",
        "\n",
        "\n",
        "1.   1-D arrays [1 2 3 4]\n",
        "2.   2-D arrays [[1 2 3 4]]\n",
        "3.   3-D arrays [[[1 2 3 4 ]]]\n",
        "4.   Higher Dimension Arrays\n",
        "--> ndim is the function used to determine the dimension of array\n",
        "\n",
        "  \n",
        "\n"
      ],
      "metadata": {
        "id": "JwsUEZVm6s__"
      }
    },
    {
      "cell_type": "code",
      "source": [
        "# two dimension array\n",
        "import numpy as np\n",
        "arr2 = np.array([[1,2,3,4],[1,2,3,4]])\n",
        "print(\"two dimension array is: \\n\",arr2)\n",
        "print(arr2.ndim)\n",
        "# three dimension array\n",
        "arr3 = np.array([[[1,2,3,4],[5,6,7,8],[7,8,9,10]]])\n",
        "print(\"three dimension array is : \\n\",arr3)\n",
        "print(arr3.ndim)\n",
        "\n",
        "# 10-D array\n",
        "arr10 = np.array([1,2,3,4],ndmin=10)\n",
        "print(\"10-D array: \\n\",arr10)\n",
        "print(arr10.ndim)"
      ],
      "metadata": {
        "colab": {
          "base_uri": "https://localhost:8080/"
        },
        "id": "QeG6ZSaO7oLW",
        "outputId": "10d1a21c-9429-40b5-8a4b-50ede73e93d1"
      },
      "execution_count": 7,
      "outputs": [
        {
          "output_type": "stream",
          "name": "stdout",
          "text": [
            "two dimension array is: \n",
            " [[1 2 3 4]\n",
            " [1 2 3 4]]\n",
            "2\n",
            "three dimension array is : \n",
            " [[[ 1  2  3  4]\n",
            "  [ 5  6  7  8]\n",
            "  [ 7  8  9 10]]]\n",
            "3\n",
            "10-D array: \n",
            " [[[[[[[[[[1 2 3 4]]]]]]]]]]\n",
            "10\n"
          ]
        }
      ]
    }
  ]
}