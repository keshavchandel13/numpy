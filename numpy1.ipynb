{
  "nbformat": 4,
  "nbformat_minor": 0,
  "metadata": {
    "colab": {
      "provenance": [],
      "authorship_tag": "ABX9TyMHrqhdyWx6z6QfrnonzIBe",
      "include_colab_link": true
    },
    "kernelspec": {
      "name": "python3",
      "display_name": "Python 3"
    },
    "language_info": {
      "name": "python"
    }
  },
  "cells": [
    {
      "cell_type": "markdown",
      "metadata": {
        "id": "view-in-github",
        "colab_type": "text"
      },
      "source": [
        "<a href=\"https://colab.research.google.com/github/keshavchandel13/numpy/blob/main/numpy1.ipynb\" target=\"_parent\"><img src=\"https://colab.research.google.com/assets/colab-badge.svg\" alt=\"Open In Colab\"/></a>"
      ]
    },
    {
      "cell_type": "markdown",
      "source": [
        "# **NUMPY**"
      ],
      "metadata": {
        "id": "joEGCWU_Sepm"
      }
    },
    {
      "cell_type": "code",
      "source": [
        "import numpy as np\n",
        "x = np.array([1,2,3,4])\n",
        "print(x)\n",
        "print(type(x))"
      ],
      "metadata": {
        "id": "rJpcMmWurGPv",
        "colab": {
          "base_uri": "https://localhost:8080/"
        },
        "outputId": "6aee2d13-12d3-471a-b4fc-0cf879cc9436"
      },
      "execution_count": null,
      "outputs": [
        {
          "output_type": "stream",
          "name": "stdout",
          "text": [
            "[1 2 3 4]\n",
            "<class 'numpy.ndarray'>\n"
          ]
        }
      ]
    },
    {
      "cell_type": "markdown",
      "source": [
        "# Array"
      ],
      "metadata": {
        "id": "pmynUaIF20L8"
      }
    },
    {
      "cell_type": "code",
      "source": [
        "# creating a array\n",
        "import numpy as np\n",
        "a = np.array([1,2,3,4])\n",
        "print(a)"
      ],
      "metadata": {
        "colab": {
          "base_uri": "https://localhost:8080/"
        },
        "id": "OJsoQ2Py2_q6",
        "outputId": "eec1e3dd-1b01-488a-8b17-4b20efb11d79"
      },
      "execution_count": null,
      "outputs": [
        {
          "output_type": "stream",
          "name": "stdout",
          "text": [
            "[1 2 3 4]\n"
          ]
        }
      ]
    },
    {
      "cell_type": "markdown",
      "source": [
        "# Create user defined array\n"
      ],
      "metadata": {
        "id": "oIrW221U3gGt"
      }
    },
    {
      "cell_type": "code",
      "source": [
        "#creating user defined array\n",
        "import numpy as np\n",
        "lst = [] # taking empty list\n",
        "b = int(input(\"enter the number of digits you want to enter in array: \"))\n",
        "for i in range(0,b):\n",
        "  inp = int(input(\"Enter value \"))\n",
        "  lst.append(inp)\n",
        "arr = np.array(lst)\n",
        "print(arr)\n",
        "print(type(arr))"
      ],
      "metadata": {
        "colab": {
          "base_uri": "https://localhost:8080/"
        },
        "id": "12zy0PPr3oy1",
        "outputId": "ceeed75f-5bfe-45d4-b280-a8c0871f2672"
      },
      "execution_count": null,
      "outputs": [
        {
          "output_type": "stream",
          "name": "stdout",
          "text": [
            "enter the number of digits you want to enter in array: 3\n",
            "Enter value 10\n",
            "Enter value 20\n",
            "Enter value 30\n",
            "[10 20 30]\n",
            "<class 'numpy.ndarray'>\n"
          ]
        }
      ]
    },
    {
      "cell_type": "markdown",
      "source": [
        "### Types of arrays\n",
        "\n",
        "\n",
        "1.   1-D arrays [1 2 3 4]\n",
        "2.   2-D arrays [[1 2 3 4]]\n",
        "3.   3-D arrays [[[1 2 3 4 ]]]\n",
        "4.   Higher Dimension Arrays\n",
        "--> ndim is the function used to determine the dimension of array\n",
        "\n",
        "  \n",
        "\n"
      ],
      "metadata": {
        "id": "JwsUEZVm6s__"
      }
    },
    {
      "cell_type": "code",
      "source": [
        "# two dimension array\n",
        "import numpy as np\n",
        "arr2 = np.array([[1,2,3,4],[1,2,3,4]])\n",
        "print(\"two dimension array is: \\n\",arr2)\n",
        "print(arr2.ndim)\n",
        "# three dimension array\n",
        "arr3 = np.array([[[1,2,3,4],[5,6,7,8],[7,8,9,10]]])\n",
        "print(\"three dimension array is : \\n\",arr3)\n",
        "print(arr3.ndim)\n",
        "\n",
        "# 10-D array\n",
        "arr10 = np.array([1,2,3,4],ndmin=10)\n",
        "print(\"10-D array: \\n\",arr10)\n",
        "print(arr10.ndim)"
      ],
      "metadata": {
        "colab": {
          "base_uri": "https://localhost:8080/"
        },
        "id": "QeG6ZSaO7oLW",
        "outputId": "10d1a21c-9429-40b5-8a4b-50ede73e93d1"
      },
      "execution_count": null,
      "outputs": [
        {
          "output_type": "stream",
          "name": "stdout",
          "text": [
            "two dimension array is: \n",
            " [[1 2 3 4]\n",
            " [1 2 3 4]]\n",
            "2\n",
            "three dimension array is : \n",
            " [[[ 1  2  3  4]\n",
            "  [ 5  6  7  8]\n",
            "  [ 7  8  9 10]]]\n",
            "3\n",
            "10-D array: \n",
            " [[[[[[[[[[1 2 3 4]]]]]]]]]]\n",
            "10\n"
          ]
        }
      ]
    },
    {
      "cell_type": "code",
      "source": [
        "# zero array\n",
        "import numpy as np\n",
        "print(\"Zero array: \")\n",
        "arr_zero = np.zeros(4)\n",
        "print(arr_zero) # 1-D\n",
        "arr_zero1 = np.zeros((2,3))\n",
        "print()\n",
        "print(arr_zero1) #2-D\n",
        "print()\n",
        "\n",
        "# One's array\n",
        "print(\"one's array: \")\n",
        "arr_one = np.ones(4)\n",
        "print(arr_one) # 1-D\n",
        "print()\n",
        "arr_one1 = np.ones((2,8))\n",
        "print(arr_one1) # 2-D\n",
        "print()\n",
        "\n",
        "# Empty Array\n",
        "print(\"Empty array: \")\n",
        "ar_emp = np.empty(4)\n",
        "print(ar_emp)\n",
        "print()\n",
        "\n",
        "# Range Array\n",
        "print(\"Range array: \")\n",
        "ar_rn = np.arange(9)\n",
        "print(ar_rn)\n",
        "print()\n",
        "\n",
        "# Diagonal Array\n",
        "print(\"Diagonal array: \")\n",
        "ar_dg = np.eye(3)\n",
        "print(ar_dg)\n",
        "print()\n",
        "\n",
        "# Special Interval array (linespace)\n",
        "print(\"Special Interval array: \")\n",
        "ar_sp = np.linspace(0,20,num=5)\n",
        "print(ar_sp)\n",
        "\n",
        "\n",
        "\n"
      ],
      "metadata": {
        "colab": {
          "base_uri": "https://localhost:8080/"
        },
        "id": "MqmTnmgE-fNE",
        "outputId": "ca5459d1-b0ee-4534-9f30-167ba3bb58db"
      },
      "execution_count": null,
      "outputs": [
        {
          "output_type": "stream",
          "name": "stdout",
          "text": [
            "Zero array: \n",
            "[0. 0. 0. 0.]\n",
            "\n",
            "[[0. 0. 0.]\n",
            " [0. 0. 0.]]\n",
            "\n",
            "one's array: \n",
            "[1. 1. 1. 1.]\n",
            "\n",
            "[[1. 1. 1. 1. 1. 1. 1. 1.]\n",
            " [1. 1. 1. 1. 1. 1. 1. 1.]]\n",
            "\n",
            "Empty array: \n",
            "[1. 1. 1. 1.]\n",
            "\n",
            "Range array: \n",
            "[0 1 2 3 4 5 6 7 8]\n",
            "\n",
            "Diagonal array: \n",
            "[[1. 0. 0.]\n",
            " [0. 1. 0.]\n",
            " [0. 0. 1.]]\n",
            "\n",
            "Special Interval array: \n",
            "[ 0.  5. 10. 15. 20.]\n"
          ]
        }
      ]
    },
    {
      "cell_type": "markdown",
      "source": [
        "# Random"
      ],
      "metadata": {
        "id": "1alcVzXkCN6t"
      }
    },
    {
      "cell_type": "code",
      "source": [
        "import numpy as np\n",
        "# Rand(): Generate Number between 0 & 1\n",
        "var = np.random.rand(4)\n",
        "print(\"Array using rand(): \\n\",var)\n",
        "print()\n",
        "var1 = np.random.rand(2,5)\n",
        "print(\"Array using rand() 2-D:\\n\",var1)\n",
        "print()\n",
        "\n",
        "# randn(): Generate Number close to zero, +ve or -ve as well\n",
        "var2 = np.random.randn(5)\n",
        "print(\"Array using randn(): 1-D:\\n\",var2)\n",
        "print()\n",
        "var3 = np.random.randn(2,3)\n",
        "print(\"array using randn 2-D: \\n\",var3)\n",
        "print()\n",
        "\n",
        "# ranf(): Random sampling in numpy, Returns array of specified shape and fills it with random float between [0.0, 1.0)\n",
        "var4 = np.random.ranf(4)\n",
        "print(\"Array using ranf() 1-D:\\n\",var4)\n",
        "print()\n",
        "\n",
        "# randint(): generate the random number between a range\n",
        "# var5 = np.random.randint(min,max,size)\n",
        "var5 = np.random.randint(5,20,5)\n",
        "print(\"Array using randint(): 1-D:\\n\",var5)\n",
        "print()\n",
        "\n"
      ],
      "metadata": {
        "id": "hKUilMuuCWD1",
        "colab": {
          "base_uri": "https://localhost:8080/"
        },
        "outputId": "3d27e9a7-4843-4f04-e86e-e46b57794b5e"
      },
      "execution_count": null,
      "outputs": [
        {
          "output_type": "stream",
          "name": "stdout",
          "text": [
            "Array using rand(): \n",
            " [0.87747728 0.0972548  0.83650654 0.91131523]\n",
            "\n",
            "Array using rand() 2-D:\n",
            " [[0.02000192 0.68750281 0.86745746 0.1725827  0.7112917 ]\n",
            " [0.19896727 0.87206652 0.95439167 0.30033965 0.37692319]]\n",
            "\n",
            "Array using randn(): 1-D:\n",
            " [ 0.8174317   0.11542216  0.01577104 -0.66518159  0.44058919]\n",
            "\n",
            "array using randn 2-D: \n",
            " [[ 0.16484025 -0.08596793 -1.44890043]\n",
            " [ 1.41835974  1.37429785 -1.47793834]]\n",
            "\n",
            "Array using ranf() 1-D:\n",
            " [0.88327713 0.70695148 0.67766419 0.82313051]\n",
            "\n",
            "Array using randint(): 1-D:\n",
            " [11 11  5  8 12]\n",
            "\n"
          ]
        }
      ]
    },
    {
      "cell_type": "markdown",
      "source": [
        "# DATATYPE IN NUMPY ARRAY'S\n"
      ],
      "metadata": {
        "id": "jDtzXHEY35ET"
      }
    },
    {
      "cell_type": "code",
      "source": [
        "import numpy as np\n",
        "# Finding datatype using .dtype\n",
        "var = np.array([1,2,3,4])\n",
        "print(\"Data type: \",var.dtype)\n",
        "print()\n",
        "var = np.array([\"a\",\"b\",\"c\"])\n",
        "print(\"Data Type: \",var.dtype)\n",
        "\n",
        "# Changing the datatype\n",
        "x = np.array([1,2,3,4],dtype=np.float16)\n",
        "print(x.dtype)\n",
        "x = np.array([1,2,3,4],dtype= \"i\")\n",
        "print(x.dtype)\n",
        "\n",
        "# changing datatype using astype\n",
        "y = np.array([1,2,3])\n",
        "new = y.astype(float)\n",
        "print(new.dtype)\n"
      ],
      "metadata": {
        "colab": {
          "base_uri": "https://localhost:8080/"
        },
        "id": "TupvVDyl3-qe",
        "outputId": "7a4bb4a1-6733-4a28-b1a8-1c6eec613be2"
      },
      "execution_count": 6,
      "outputs": [
        {
          "output_type": "stream",
          "name": "stdout",
          "text": [
            "Data type:  int64\n",
            "\n",
            "Data Type:  <U1\n",
            "float16\n",
            "int32\n",
            "float64\n"
          ]
        }
      ]
    }
  ]
}